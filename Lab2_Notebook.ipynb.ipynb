{
 "cells": [
  {
   "cell_type": "markdown",
   "id": "d2118eb3",
   "metadata": {},
   "source": [
    "## Step 1: Hello, Data!\n",
    "\n",
    "In this step, I load the raw sales transactions CSV file into a DataFrame and display the first three rows to understand the structure of the data.\n"
   ]
  },
  {
   "cell_type": "code",
   "execution_count": 1,
   "id": "d00bd3c5",
   "metadata": {},
   "outputs": [
    {
     "name": "stdout",
     "output_type": "stream",
     "text": [
      "   sno                            Region Country   Item Type Sales Channel  \\\n",
      "0  1.0      middle east and north africa   Libya   Cosmetics       Offline   \n",
      "1  2.0                     north america  CANADA  Vegetables        Online   \n",
      "2  3.0    Middle East and North Africa     LIBYA   Baby Food       Offline   \n",
      "\n",
      "  Order Priority  Order Date     Order ID   Ship Date  Units Sold  Unit Price  \\\n",
      "0              M   18-Oct-14  686800706.0  31-10-2014      8446.0      437.20   \n",
      "1              M  07-11-2011  185941302.0  2011-12-08      3018.0      154.06   \n",
      "2              C   31-Oct-16  246222341.0  2016-12-09      1517.0      255.28   \n",
      "\n",
      "   Unit Cost  Total Revenue  Total Cost  Total Profit coupon_code  \n",
      "0     263.33     3692591.20  2224085.18    1468506.02      GF24TA  \n",
      "1      90.93      464953.08   274426.74     190526.34      10AMSP  \n",
      "2     159.42      387259.76   241840.14     145419.62      TEYPEU  \n"
     ]
    }
   ],
   "source": [
    "# ---------- importing the pandas library ----------\n",
    "import pandas as pd\n",
    "\n",
    "# ---------- reading  CSV file ----------\n",
    "file1 = r\"D:\\Conestoga\\Machine Learning Programming\\Lab-2\\sales_data_with_coupons.csv\"\n",
    "data1 = pd.read_csv(file1)\n",
    "\n",
    "# ---------- displaying the first 3 rows of the data ----------\n",
    "print(data1.head(3))\n",
    "\n"
   ]
  },
  {
   "cell_type": "markdown",
   "id": "14e567c5",
   "metadata": {},
   "source": [
    "## Step 2: Pick the Right Container\n",
    "\n",
    "A `dict` is simple but doesn’t group behavior with data and a `namedtuple` is cleaner than a dict,but no custom functions\n",
    "A `class` is best here  because it helps organize the data and lets me add my own methods like `clean()` and `total()`."
   ]
  },
  {
   "cell_type": "markdown",
   "id": "5df16203",
   "metadata": {},
   "source": [
    "## Step 3: Transaction Class and OO structure \n"
   ]
  },
  {
   "cell_type": "code",
   "execution_count": 3,
   "id": "d0056fd6",
   "metadata": {},
   "outputs": [
    {
     "name": "stdout",
     "output_type": "stream",
     "text": [
      "{'order_date': '18-Oct-14', 'customer_id': 686800706.0, 'product': 'Cosmetics', 'price': 437.2, 'quantity': 8446.0, 'coupon_code': 'GF24TA', 'shipping_city': 'Libya'}\n"
     ]
    }
   ],
   "source": [
    "# ---------- creating a class to represent one transaction ----------\n",
    "\n",
    "class Transaction:\n",
    "    def __init__(self, row):\n",
    "        # ---------- saving each column into the object ----------\n",
    "        self.order_date = row[\"Order Date\"]\n",
    "        self.customer_id = row[\"Order ID\"]\n",
    "        self.product = row[\"Item Type\"]\n",
    "        self.price = row[\"Unit Price\"]\n",
    "        self.quantity = row[\"Units Sold\"]\n",
    "        self.coupon_code = row[\"coupon_code\"]\n",
    "        self.shipping_city = row[\"Country\"]  # using Country as \"city\" substitute\n",
    "\n",
    "# ---------- creating a list to store all transaction objects ----------\n",
    "transaction_list = []\n",
    "\n",
    "# ---------- going through each row and converting to a Transaction object ----------\n",
    "for index, row in data1.iterrows():\n",
    "    obj = Transaction(row)\n",
    "    transaction_list.append(obj)\n",
    "\n",
    "# ---------- printing the first transaction as a check ----------\n",
    "print(vars(transaction_list[0]))\n"
   ]
  },
  {
   "cell_type": "markdown",
   "id": "2bdf28de",
   "metadata": {},
   "source": [
    "### Transaction Class and OO Data Structure\n",
    "In this step, I created a Python class to represent each row in the sales data.\n",
    "I used real column names like \"Order Date\", \"Item Type\", and \"coupon_code\" from the CSV.\n"
   ]
  },
  {
   "cell_type": "markdown",
   "id": "e36d6d08",
   "metadata": {},
   "source": [
    "##  Step 4: Bulk Loader \n"
   ]
  },
  {
   "cell_type": "code",
   "execution_count": 5,
   "id": "91a1f4bd",
   "metadata": {},
   "outputs": [
    {
     "name": "stdout",
     "output_type": "stream",
     "text": [
      "{'order_date': '18-Oct-14', 'customer_id': 686800706.0, 'product': 'Cosmetics', 'price': 437.2, 'quantity': 8446.0, 'coupon_code': 'GF24TA', 'shipping_city': 'Libya'}\n"
     ]
    }
   ],
   "source": [
    "# ---------- importing List for return type hint ----------\n",
    "from typing import List\n",
    "\n",
    "# ---------- defining a function to load all transactions ----------\n",
    "def load_transactions(dataframe) -> List[Transaction]:\n",
    "    # ---------- creating a list to hold transaction objects ----------\n",
    "    result = []\n",
    "\n",
    "    # ---------- going through each row in the dataframe ----------\n",
    "    for index, row in dataframe.iterrows():\n",
    "        obj = Transaction(row)      # ---------- make Transaction object ----------\n",
    "        result.append(obj)          # ---------- add to list ----------\n",
    "\n",
    "    return result\n",
    "\n",
    "# ---------- using the function to load data ----------\n",
    "transactions = load_transactions(data1)\n",
    "\n",
    "# ---------- print one item to check ----------\n",
    "print(vars(transactions[0]))\n"
   ]
  },
  {
   "cell_type": "markdown",
   "id": "09b975c7",
   "metadata": {},
   "source": [
    "in this step i made a function called `load_transactions()` to turn each row of the data into a `Transaction` object.\n",
    "This function goes through the dataframe row by row and makes a list of all  transactions.\n",
    "It helps to keep the code clean and now i can just call this function anytime I want to load the data as objects.\n"
   ]
  }
 ],
 "metadata": {
  "kernelspec": {
   "display_name": "da1",
   "language": "python",
   "name": "python3"
  },
  "language_info": {
   "codemirror_mode": {
    "name": "ipython",
    "version": 3
   },
   "file_extension": ".py",
   "mimetype": "text/x-python",
   "name": "python",
   "nbconvert_exporter": "python",
   "pygments_lexer": "ipython3",
   "version": "3.10.16"
  }
 },
 "nbformat": 4,
 "nbformat_minor": 5
}
