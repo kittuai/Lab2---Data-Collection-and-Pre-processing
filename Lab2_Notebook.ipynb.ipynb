{
 "cells": [
  {
   "cell_type": "markdown",
   "id": "d2118eb3",
   "metadata": {},
   "source": [
    "## Step 1: Hello, Data!\n",
    "\n",
    "In this step, I load the raw sales transactions CSV file into a DataFrame and display the first three rows to understand the structure of the data.\n"
   ]
  },
  {
   "cell_type": "code",
   "execution_count": 2,
   "id": "d00bd3c5",
   "metadata": {},
   "outputs": [
    {
     "name": "stdout",
     "output_type": "stream",
     "text": [
      "   sno                            Region Country   Item Type Sales Channel  \\\n",
      "0  1.0      middle east and north africa   Libya   Cosmetics       Offline   \n",
      "1  2.0                     north america  CANADA  Vegetables        Online   \n",
      "2  3.0    Middle East and North Africa     LIBYA   Baby Food       Offline   \n",
      "\n",
      "  Order Priority  Order Date     Order ID   Ship Date  Units Sold  Unit Price  \\\n",
      "0              M   18-Oct-14  686800706.0  31-10-2014      8446.0      437.20   \n",
      "1              M  07-11-2011  185941302.0  2011-12-08      3018.0      154.06   \n",
      "2              C   31-Oct-16  246222341.0  2016-12-09      1517.0      255.28   \n",
      "\n",
      "   Unit Cost  Total Revenue  Total Cost  Total Profit coupon_code  \n",
      "0     263.33     3692591.20  2224085.18    1468506.02      GF24TA  \n",
      "1      90.93      464953.08   274426.74     190526.34      10AMSP  \n",
      "2     159.42      387259.76   241840.14     145419.62      TEYPEU  \n"
     ]
    }
   ],
   "source": [
    "# ---------- importing the pandas library ----------\n",
    "import pandas as pd\n",
    "\n",
    "# ---------- reading  CSV file ----------\n",
    "file1 = r\"D:\\Conestoga\\Machine Learning Programming\\Lab-2\\sales_data_with_coupons.csv\"\n",
    "data1 = pd.read_csv(file1)\n",
    "\n",
    "# ---------- displaying the first 3 rows of the data ----------\n",
    "print(data1.head(3))\n",
    "\n"
   ]
  },
  {
   "cell_type": "markdown",
   "id": "14e567c5",
   "metadata": {},
   "source": [
    "## Step 2: Pick the Right Container\n",
    "\n",
    "A `dict` is simple but doesn’t group behavior with data and a `namedtuple` is cleaner than a dict,but no custom functions\n",
    "A `class` is best here  because it helps organize the data and lets me add my own methods like `clean()` and `total()`."
   ]
  }
 ],
 "metadata": {
  "kernelspec": {
   "display_name": "da1",
   "language": "python",
   "name": "python3"
  },
  "language_info": {
   "codemirror_mode": {
    "name": "ipython",
    "version": 3
   },
   "file_extension": ".py",
   "mimetype": "text/x-python",
   "name": "python",
   "nbconvert_exporter": "python",
   "pygments_lexer": "ipython3",
   "version": "3.10.16"
  }
 },
 "nbformat": 4,
 "nbformat_minor": 5
}
